{
  "nbformat": 4,
  "nbformat_minor": 0,
  "metadata": {
    "colab": {
      "name": "Untitled0.ipynb",
      "provenance": [],
      "authorship_tag": "ABX9TyOClQMWBTGXHtieN4fW/TSs",
      "include_colab_link": true
    },
    "kernelspec": {
      "name": "python3",
      "display_name": "Python 3"
    },
    "language_info": {
      "name": "python"
    }
  },
  "cells": [
    {
      "cell_type": "markdown",
      "metadata": {
        "id": "view-in-github",
        "colab_type": "text"
      },
      "source": [
        "<a href=\"https://colab.research.google.com/github/2oba/Tutorials-UofMSAP/blob/feature-addPythonNotebook/Untitled0.ipynb\" target=\"_parent\"><img src=\"https://colab.research.google.com/assets/colab-badge.svg\" alt=\"Open In Colab\"/></a>"
      ]
    },
    {
      "cell_type": "code",
      "execution_count": null,
      "metadata": {
        "id": "nTOxS5dFwFKB"
      },
      "outputs": [],
      "source": [
        "import numpy as np"
      ]
    },
    {
      "cell_type": "code",
      "source": [
        "number_of_students = 2\n",
        "number_of_chairs = 25; \n",
        "number_of_benches = 23;"
      ],
      "metadata": {
        "id": "h7U52O30wNx0"
      },
      "execution_count": null,
      "outputs": []
    },
    {
      "cell_type": "code",
      "source": [
        "print('The number of students in the classroom is {}'.format(number_of_students))\n",
        "print('The number of chairs in the classroom is %g' % number_of_chairs)\n",
        "print(\"The number of benches in the classroom is \"+ str(number_of_benches))"
      ],
      "metadata": {
        "colab": {
          "base_uri": "https://localhost:8080/"
        },
        "id": "mPgWidNzwWt7",
        "outputId": "8214e675-f12c-44f4-9159-ca43dfbeb378"
      },
      "execution_count": null,
      "outputs": [
        {
          "output_type": "stream",
          "name": "stdout",
          "text": [
            "The number of students in the classroom is 2\n",
            "The number of chairs in the classroom is 25\n",
            "The number of benches in the classroom is 23\n"
          ]
        }
      ]
    },
    {
      "cell_type": "code",
      "source": [
        "\n"
      ],
      "metadata": {
        "id": "irQ2dc0uwkqQ"
      },
      "execution_count": null,
      "outputs": []
    },
    {
      "cell_type": "code",
      "source": [
        ""
      ],
      "metadata": {
        "id": "CdlHAwOnw7EH"
      },
      "execution_count": null,
      "outputs": []
    }
  ]
}
