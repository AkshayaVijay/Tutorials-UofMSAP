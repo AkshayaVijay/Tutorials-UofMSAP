{
  "nbformat": 4,
  "nbformat_minor": 0,
  "metadata": {
    "colab": {
      "name": "tutorialsPython.ipynb",
      "provenance": [],
      "authorship_tag": "ABX9TyOMGVBri1xnyzJA+vAo+HsR",
      "include_colab_link": true
    },
    "kernelspec": {
      "name": "python3",
      "display_name": "Python 3"
    },
    "language_info": {
      "name": "python"
    }
  },
  "cells": [
    {
      "cell_type": "markdown",
      "metadata": {
        "id": "view-in-github",
        "colab_type": "text"
      },
      "source": [
        "<a href=\"https://colab.research.google.com/github/AkshayaVijay/Tutorials-UofMSAP/blob/feature-addpthonNotebook/tutorialsPython.ipynb\" target=\"_parent\"><img src=\"https://colab.research.google.com/assets/colab-badge.svg\" alt=\"Open In Colab\"/></a>"
      ]
    },
    {
      "cell_type": "code",
      "source": [
        "import numpy as np"
      ],
      "metadata": {
        "id": "cLe4jbGNwJ18"
      },
      "execution_count": null,
      "outputs": []
    },
    {
      "cell_type": "code",
      "execution_count": null,
      "metadata": {
        "colab": {
          "base_uri": "https://localhost:8080/"
        },
        "id": "Nu2Fsur_v3Bx",
        "outputId": "21ac98db-bc1e-4cbe-cc1a-6ad4eb02aa43"
      },
      "outputs": [
        {
          "output_type": "stream",
          "name": "stdout",
          "text": [
            "The number of students in the classroom is 2\n",
            "The number of chairs in the classroom is 25\n",
            "The number of benches in the classroom is 23\n"
          ]
        }
      ],
      "source": [
        "number_of_students = 2 \n",
        "number_of_chairs = 25 #number of chairs in classroom \n",
        "number_of_benches = 23  #number of benches in the classroom\n",
        "#print(number_of_students)\n",
        "print(\"The number of students in the classroom is \"+str(number_of_students))\n",
        "#print(number_of_chairs)\n",
        "print(\"The number of chairs in the classroom is \"+str(number_of_chairs))\n",
        "#print(number_of_benches)\n",
        "print(\"The number of benches in the classroom is \"+str(number_of_benches))"
      ]
    }
  ]
}
